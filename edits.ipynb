{
 "cells": [
  {
   "cell_type": "code",
   "execution_count": null,
   "id": "e14b5a74",
   "metadata": {},
   "outputs": [],
   "source": [
    "def format_class_name(raw_class_name: str) -> str:\n",
    "    \"\"\"\n",
    "    Formats a raw class name by replacing '___' with ' - ' and '_' with ' '.\n",
    "    Removes '(including sour)' for conciseness.\n",
    "    \"\"\"\n",
    "    # Handle specific formatting for \"(including sour)\"\n",
    "    formatted_name = raw_class_name.replace(\"_(including_sour)\", \"\").strip()\n",
    "    # Replace '___' with ' - '\n",
    "    formatted_name = formatted_name.replace(\"___\", \" - \")\n",
    "    # Replace '_' with ' '\n",
    "    formatted_name = formatted_name.replace(\"_\", \" \")\n",
    "    return formatted_name\n"
   ]
  },
  {
   "cell_type": "code",
   "execution_count": 2,
   "id": "e51295d4",
   "metadata": {},
   "outputs": [],
   "source": [
    "CLASS_NAMES = ['Apple___Apple_scab', 'Apple___Black_rot', 'Apple___Cedar_apple_rust', 'Apple___healthy', 'Blueberry___healthy', 'Cherry_(including_sour)___Powdery_mildew', 'Cherry_(including_sour)___healthy', 'Corn_(maize)___Cercospora_leaf_spot Gray_leaf_spot', 'Corn_(maize)___Common_rust_', 'Corn_(maize)___Northern_Leaf_Blight', 'Corn_(maize)___healthy', 'Grape___Black_rot', 'Grape___Esca_(Black_Measles)', 'Grape___Leaf_blight_(Isariopsis_Leaf_Spot)', 'Grape___healthy', 'Orange___Haunglongbing_(Citrus_greening)', 'Peach___Bacterial_spot', 'Peach___healthy', 'Pepper,_bell___Bacterial_spot', 'Pepper,_bell___healthy', 'Potato___Early_blight', 'Potato___Late_blight', 'Potato___healthy', 'Raspberry___healthy', 'Soybean___healthy', 'Squash___Powdery_mildew', 'Strawberry___Leaf_scorch', 'Strawberry___healthy', 'Tomato___Bacterial_spot', 'Tomato___Early_blight', 'Tomato___Late_blight', 'Tomato___Leaf_Mold', 'Tomato___Septoria_leaf_spot', 'Tomato___Spider_mites Two-spotted_spider_mite', 'Tomato___Target_Spot', 'Tomato___Tomato_Yellow_Leaf_Curl_Virus', 'Tomato___Tomato_mosaic_virus', 'Tomato___healthy']\n"
   ]
  },
  {
   "cell_type": "code",
   "execution_count": 3,
   "id": "1193f1b1",
   "metadata": {},
   "outputs": [
    {
     "name": "stdout",
     "output_type": "stream",
     "text": [
      "['Apple - Apple scab', 'Apple - Black rot', 'Apple - Cedar apple rust', 'Apple - healthy', 'Blueberry - healthy', 'Cherry - Powdery mildew', 'Cherry - healthy', 'Corn (maize) - Cercospora leaf spot Gray leaf spot', 'Corn (maize) - Common rust ', 'Corn (maize) - Northern Leaf Blight', 'Corn (maize) - healthy', 'Grape - Black rot', 'Grape - Esca (Black Measles)', 'Grape - Leaf blight (Isariopsis Leaf Spot)', 'Grape - healthy', 'Orange - Haunglongbing (Citrus greening)', 'Peach - Bacterial spot', 'Peach - healthy', 'Pepper, bell - Bacterial spot', 'Pepper, bell - healthy', 'Potato - Early blight', 'Potato - Late blight', 'Potato - healthy', 'Raspberry - healthy', 'Soybean - healthy', 'Squash - Powdery mildew', 'Strawberry - Leaf scorch', 'Strawberry - healthy', 'Tomato - Bacterial spot', 'Tomato - Early blight', 'Tomato - Late blight', 'Tomato - Leaf Mold', 'Tomato - Septoria leaf spot', 'Tomato - Spider mites Two-spotted spider mite', 'Tomato - Target Spot', 'Tomato - Tomato Yellow Leaf Curl Virus', 'Tomato - Tomato mosaic virus', 'Tomato - healthy']\n"
     ]
    }
   ],
   "source": [
    "news = [format_class_name(name) for name in CLASS_NAMES]\n",
    "print(news)"
   ]
  },
  {
   "cell_type": "code",
   "execution_count": null,
   "id": "143136ed",
   "metadata": {},
   "outputs": [],
   "source": []
  }
 ],
 "metadata": {
  "kernelspec": {
   "display_name": "my_env",
   "language": "python",
   "name": "python3"
  },
  "language_info": {
   "codemirror_mode": {
    "name": "ipython",
    "version": 3
   },
   "file_extension": ".py",
   "mimetype": "text/x-python",
   "name": "python",
   "nbconvert_exporter": "python",
   "pygments_lexer": "ipython3",
   "version": "3.10.14"
  }
 },
 "nbformat": 4,
 "nbformat_minor": 5
}
